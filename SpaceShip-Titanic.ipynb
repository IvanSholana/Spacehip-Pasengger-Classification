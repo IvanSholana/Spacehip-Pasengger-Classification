{
 "cells": [
  {
   "cell_type": "code",
   "execution_count": 1,
   "metadata": {},
   "outputs": [],
   "source": [
    "import pandas as pd\n",
    "import matplotlib.pyplot as plt\n",
    "import seaborn as sns\n",
    "import numpy as np"
   ]
  },
  {
   "cell_type": "markdown",
   "metadata": {},
   "source": [
    "# Domain Proyek\n",
    "\n",
    "Pada tahun 2912, Spaceship Titanic, sebuah kapal penumpang antarbintang yang membawa emigran dari tata surya kita ke tiga eksoplanet baru, mengalami kecelakaan saat melewati Alpha Centauri. Kapal tersebut bertabrakan dengan anomali ruang-waktu yang mengakibatkan hampir setengah dari 13.000 penumpangnya berpindah ke dimensi lain.\n",
    "\n",
    "## Masalah yang Harus Diselesaikan\n",
    "\n",
    "Kecelakaan ini menimbulkan pertanyaan krusial: faktor-faktor apa yang memengaruhi perpindahan penumpang ke dimensi lain? Pemahaman tentang hal ini sangat penting untuk mencegah kejadian serupa di masa depan dan memastikan keselamatan perjalanan antarbintang.\n",
    "\n",
    "**Mengapa Masalah Ini Harus Diselesaikan**\n",
    "\n",
    "1. **Keselamatan Perjalanan Antarbintang**: Dengan mengidentifikasi faktor-faktor risiko, kita dapat mengembangkan tindakan pencegahan dan protokol keselamatan yang lebih baik untuk melindungi penumpang di masa depan.\n",
    "2. **Potensi Penyelamatan**: Jika kita dapat memahami pola perpindahan, mungkin ada kemungkinan untuk menemukan dan menyelamatkan penumpang yang hilang.\n",
    "\n",
    "**Bagaimana Masalah Ini Harus Diselesaikan**\n",
    "\n",
    "Masalah ini dapat diselesaikan dengan menganalisis data penumpang yang selamat dan hilang. Dengan menggunakan teknik data science, kita dapat membangun model prediktif untuk mengidentifikasi faktor-faktor yang berkontribusi terhadap perpindahan penumpang. Model ini dapat digunakan untuk **memberikan informasi kepada calon penumpang tentang faktor-faktor risiko yang terkait dengan perjalanan antarbintang.**\n",
    "\n",
    "## Business Understanding\n",
    "**Problem Statements**\n",
    "1. Faktor-faktor apa yang paling berpengaruh terhadap perpindahan penumpang ke dimensi lain?\n",
    "2. Dapatkah kita membangun model prediktif untuk mengidentifikasi penumpang mana yang kemungkinan besar akan dipindahkan?\n",
    "## Goals\n",
    "1. **Mengidentifikasi Faktor-faktor yang Berpengaruh Terhadap Perpindahan Penumpang**: Tujuannya adalah untuk menentukan fitur-fitur mana yang paling kuat dalam memprediksi perpindahan penumpang, seperti 'CryoSleep', 'Age', atau 'Spending'. Dengan memahami faktor-faktor ini, kita dapat mengidentifikasi karakteristik penumpang yang meningkatkan risiko perpindahan dan memberikan rekomendasi untuk mengurangi risiko tersebut.\n",
    "2. **Membangun Model Prediktif yang Akurat**: Tujuannya adalah untuk mengembangkan model machine learning yang dapat secara akurat memprediksi apakah seorang penumpang akan dipindahkan atau tidak. Model ini akan dievaluasi berdasarkan metrik seperti akurasi, presisi, recall, dan F1-score. Model yang berkinerja baik dapat digunakan untuk membuat prediksi pada data baru dan membantu dalam upaya penyelamatan.\n",
    "## Solution Statements\n",
    "1. **Pemodelan Prediktif dengan Berbagai Algoritma**: Kami akan melatih dan membandingkan kinerja beberapa algoritma klasifikasi, seperti CatBoost, XGBoost, dan Random Forest. Model terbaik akan dipilih berdasarkan metrik evaluasi seperti akurasi, presisi, recall, dan F1-score pada data validasi.\n",
    "2. **Hyperparameter Tuning**: Kami akan melakukan hyperparameter tuning pada model terbaik untuk meningkatkan kinerjanya lebih lanjut. Proses ini melibatkan pencarian kombinasi hyperparameter optimal yang memaksimalkan metrik evaluasi yang dipilih."
   ]
  },
  {
   "cell_type": "markdown",
   "metadata": {},
   "source": [
    "# Data Understanding"
   ]
  },
  {
   "cell_type": "markdown",
   "metadata": {},
   "source": [
    "**Data Source:**\n",
    "https://www.kaggle.com/competitions/spaceship-titanic"
   ]
  },
  {
   "cell_type": "markdown",
   "metadata": {},
   "source": [
    "## Load Dataset"
   ]
  },
  {
   "cell_type": "code",
   "execution_count": null,
   "metadata": {},
   "outputs": [],
   "source": [
    "train_df = pd.read_csv(\"./train.csv\")\n",
    "train_df.head()"
   ]
  },
  {
   "cell_type": "code",
   "execution_count": null,
   "metadata": {},
   "outputs": [],
   "source": [
    "train_df.shape"
   ]
  },
  {
   "cell_type": "code",
   "execution_count": 1485,
   "metadata": {},
   "outputs": [],
   "source": [
    "columns = train_df.columns.to_list()"
   ]
  },
  {
   "cell_type": "markdown",
   "metadata": {},
   "source": [
    "## Dataset Features Information\n",
    "\n",
    "Variabel-variabel pada Spaceship Titanic Dataset adalah sebagai berikut:"
   ]
  },
  {
   "cell_type": "markdown",
   "metadata": {},
   "source": [
    "| Kolom         | Deskripsi                                                                                              |\n",
    "|---------------|--------------------------------------------------------------------------------------------------------|\n",
    "| PassengerId   | ID unik untuk setiap penumpang. Setiap ID berbentuk gggg_pp di mana gggg menunjukkan grup yang bepergian bersama penumpang tersebut dan pp adalah nomor mereka dalam grup. Orang-orang dalam grup seringkali adalah anggota keluarga, tetapi tidak selalu. |\n",
    "| HomePlanet    | Planet asal tempat penumpang berangkat, biasanya planet tempat tinggal permanen mereka.                |\n",
    "| CryoSleep     | Menunjukkan apakah penumpang memilih untuk ditempatkan dalam animasi suspensi selama perjalanan. Penumpang yang berada dalam cryosleep dikurung di kabin mereka. |\n",
    "| Cabin         | Nomor kabin tempat penumpang menginap. Berbentuk deck/num/side, di mana side dapat berupa P untuk Port atau S untuk Starboard. |\n",
    "| Destination   | Planet tujuan tempat penumpang akan turun.                                                             |\n",
    "| Age           | Usia penumpang.                                                                                        |\n",
    "| VIP           | Apakah penumpang telah membayar layanan VIP khusus selama perjalanan.                                   |\n",
    "| RoomService   | Jumlah yang ditagihkan penumpang di layanan kamar Spaceship Titanic.                                   |\n",
    "| FoodCourt     | Jumlah yang ditagihkan penumpang di area makanan Spaceship Titanic.                                    |\n",
    "| ShoppingMall  | Jumlah yang ditagihkan penumpang di pusat perbelanjaan Spaceship Titanic.                              |\n",
    "| Spa           | Jumlah yang ditagihkan penumpang di spa Spaceship Titanic.                                             |\n",
    "| VRDeck        | Jumlah yang ditagihkan penumpang di dek VR Spaceship Titanic.                                          |\n",
    "| Name          | Nama depan dan nama belakang penumpang.                                                                |\n",
    "| Transported   | Apakah penumpang dipindahkan ke dimensi lain. Ini adalah target, kolom yang ingin Anda prediksi.       |"
   ]
  },
  {
   "cell_type": "markdown",
   "metadata": {},
   "source": [
    "## Data Assessing"
   ]
  },
  {
   "cell_type": "code",
   "execution_count": null,
   "metadata": {},
   "outputs": [],
   "source": [
    "train_df.info()"
   ]
  },
  {
   "cell_type": "code",
   "execution_count": null,
   "metadata": {},
   "outputs": [],
   "source": [
    "train_df.describe(include='all')"
   ]
  },
  {
   "cell_type": "code",
   "execution_count": null,
   "metadata": {},
   "outputs": [],
   "source": [
    "# Show Null Data\n",
    "train_df.isnull().sum()"
   ]
  },
  {
   "cell_type": "code",
   "execution_count": null,
   "metadata": {},
   "outputs": [],
   "source": [
    "# Count Duplicate Data\n",
    "train_df.duplicated().sum()"
   ]
  },
  {
   "cell_type": "code",
   "execution_count": null,
   "metadata": {},
   "outputs": [],
   "source": [
    "# Unique Value\n",
    "for i in columns:\n",
    "    print(f\"{i} : {len(train_df[i].unique())}\")"
   ]
  },
  {
   "cell_type": "code",
   "execution_count": null,
   "metadata": {},
   "outputs": [],
   "source": [
    "# Class Distribution\n",
    "train_df['Transported'].value_counts().plot(kind='bar')\n",
    "plt.title(\"Distribusi Kelas\")\n",
    "plt.show()"
   ]
  },
  {
   "cell_type": "markdown",
   "metadata": {},
   "source": [
    "# Explanatory Data Analysis"
   ]
  },
  {
   "cell_type": "markdown",
   "metadata": {},
   "source": [
    "### 1. Multivariate Analysis"
   ]
  },
  {
   "cell_type": "markdown",
   "metadata": {},
   "source": [
    "#### A. HomePlanet"
   ]
  },
  {
   "cell_type": "code",
   "execution_count": null,
   "metadata": {},
   "outputs": [],
   "source": [
    "# Menghitung jumlah Transported True dan False untuk setiap nilai HomePlanet\n",
    "transported_counts = train_df.groupby(['HomePlanet', 'Transported']).size().unstack().reset_index()\n",
    "\n",
    "# Membuat plot bar\n",
    "transported_counts.plot(kind='bar', x='HomePlanet', stacked=True)\n",
    "\n",
    "# Menambahkan judul dan label sumbu\n",
    "plt.title('Jumlah Transported (True dan False) per HomePlanet')\n",
    "plt.xlabel('HomePlanet')\n",
    "plt.ylabel('Jumlah Penumpang')\n",
    "\n",
    "# Menampilkan plot\n",
    "plt.show()"
   ]
  },
  {
   "cell_type": "markdown",
   "metadata": {},
   "source": [
    "Diagram di atas menunjukkan bahwa HomePlanet tidak memiliki pengaruh yang signifikan terhadap status Transported. Meskipun Earth memiliki jumlah penumpang terbanyak, distribusi Transported hampir seimbang di semua planet, menunjukkan bahwa faktor-faktor lain harus dipertimbangkan untuk memahami pola Transported."
   ]
  },
  {
   "cell_type": "markdown",
   "metadata": {},
   "source": [
    "#### B. CyroSleep"
   ]
  },
  {
   "cell_type": "code",
   "execution_count": null,
   "metadata": {},
   "outputs": [],
   "source": [
    "# Menghitung jumlah Transported True dan False untuk setiap nilai CryoSleep\n",
    "transported_counts = train_df.groupby(['CryoSleep', 'Transported']).size().unstack().reset_index()\n",
    "\n",
    "# Membuat plot bar\n",
    "transported_counts.plot(kind='bar', x='CryoSleep', stacked=True)\n",
    "\n",
    "# Menambahkan judul dan label sumbu\n",
    "plt.title('Jumlah Transported (True dan False) per CryoSleep')\n",
    "plt.xlabel('CryoSleep')\n",
    "plt.ylabel('Jumlah Penumpang')\n",
    "\n",
    "# Menampilkan plot\n",
    "plt.show()"
   ]
  },
  {
   "cell_type": "markdown",
   "metadata": {},
   "source": [
    "Penumpang yang berada dalam kondisi CryoSleep cenderung memiliki pengaruh lebih besar daripada mereka yang tidak berada dalam kondisi CryoSleep. Oleh karena itu, penting untuk mengubah kolom CryoSleep menggunakan LabelEncoder untuk memberikan bobot yang lebih tinggi pada nilai True dibandingkan dengan False."
   ]
  },
  {
   "cell_type": "code",
   "execution_count": null,
   "metadata": {},
   "outputs": [],
   "source": [
    "# Memfilter data untuk CryoSleep == True\n",
    "cryosleep_true = train_df.loc[train_df['CryoSleep'] == True].dropna()\n",
    "\n",
    "# Fitur yang akan dibuat histogramnya\n",
    "features = ['RoomService', 'FoodCourt', 'ShoppingMall', 'Spa', 'VRDeck']\n",
    "\n",
    "for i in features:\n",
    "    print(cryosleep_true[i].value_counts())"
   ]
  },
  {
   "cell_type": "markdown",
   "metadata": {},
   "source": [
    "Pada hasil analisis di atas menunjukkan bahwa apabila feature CrycoSleep memiliki nilai True maka 'RoomService', 'FoodCourt', 'ShoppingMall', 'Spa', 'VRDeck' akan memiliki nilai 0."
   ]
  },
  {
   "cell_type": "markdown",
   "metadata": {},
   "source": [
    "#### C. VIP"
   ]
  },
  {
   "cell_type": "code",
   "execution_count": null,
   "metadata": {},
   "outputs": [],
   "source": [
    "# Menghitung jumlah Transported True dan False untuk setiap nilai VIP\n",
    "transported_counts = train_df.groupby(['VIP', 'Transported']).size().unstack().reset_index()\n",
    "\n",
    "# Membuat plot bar\n",
    "transported_counts.plot(kind='bar', x='VIP', stacked=True)\n",
    "\n",
    "# Menambahkan judul dan label sumbu\n",
    "plt.title('Jumlah Transported (True dan False) per VIP')\n",
    "plt.xlabel('VIP')\n",
    "plt.ylabel('Jumlah Penumpang')\n",
    "\n",
    "# Menampilkan plot\n",
    "plt.show()"
   ]
  },
  {
   "cell_type": "markdown",
   "metadata": {},
   "source": [
    "Distribusi nilai VIP sangat imbalance dan pada nilai bernilai False dapat dilihat bahwa perbandingan antara nilai VIP False yang Transported dan tidak cukup seimbang."
   ]
  },
  {
   "cell_type": "code",
   "execution_count": null,
   "metadata": {},
   "outputs": [],
   "source": [
    "# Menghitung jumlah HomePlanet True dan False untuk setiap nilai VIP\n",
    "HomePlanet_counts = train_df.groupby(['VIP', 'HomePlanet']).size().unstack().reset_index()\n",
    "\n",
    "# Membuat plot bar\n",
    "HomePlanet_counts.plot(kind='bar', x='VIP', stacked=True)\n",
    "\n",
    "# Menambahkan judul dan label sumbu\n",
    "plt.title('Jumlah HomePlanet (True dan False) per VIP')\n",
    "plt.xlabel('VIP')\n",
    "plt.ylabel('Jumlah Penumpang')\n",
    "\n",
    "# Menampilkan plot\n",
    "plt.show()"
   ]
  },
  {
   "cell_type": "markdown",
   "metadata": {},
   "source": [
    "Berdasarkan analisis di atas menunjukkan bahwa penumpang yang berasal dari Earth tidak ada yang berstatus sebagai penumpang VIP sehingga sangat memungkinkan untuk mengisi nilai VIP menjadi False apabila HomePlanetnya adalah Earth."
   ]
  },
  {
   "cell_type": "code",
   "execution_count": null,
   "metadata": {},
   "outputs": [],
   "source": [
    "VIP_Pessanger = train_df.loc[train_df['VIP'] == True]\n",
    "Non_VIP_Pessanger = train_df.loc[train_df['VIP'] == False]\n",
    "\n",
    "# Membuat histogram\n",
    "plt.figure(figsize=(12, 6))\n",
    "\n",
    "# Histogram untuk penumpang yang 'Transported'\n",
    "plt.subplot(1, 2, 1)\n",
    "sns.histplot(VIP_Pessanger['Age'].dropna(), bins=20, kde=False, color='blue')\n",
    "plt.title('Distribusi Usia Penumpang yang VIP')\n",
    "plt.xlabel('Usia')\n",
    "plt.ylabel('Jumlah Penumpang')\n",
    "\n",
    "# Histogram untuk penumpang yang 'Not Transported'\n",
    "plt.subplot(1, 2, 2)\n",
    "sns.histplot(Non_VIP_Pessanger['Age'].dropna(), bins=20, kde=False, color='red')\n",
    "plt.title('Distribusi Usia Penumpang yang Tidak VIP')\n",
    "plt.xlabel('Usia')\n",
    "plt.ylabel('Jumlah Penumpang')\n",
    "\n",
    "# Menampilkan plot\n",
    "plt.tight_layout()\n",
    "plt.show()"
   ]
  },
  {
   "cell_type": "markdown",
   "metadata": {},
   "source": [
    "Berdasarkan hasil analisis di atas, penumpang yang berusia di bawah 20 tahun dan di atas 75 tahun tidak memiliki status VIP. Oleh karena itu, kondisi ini dapat digunakan untuk mengisi nilai Age dan VIP yang bernilai NaN."
   ]
  },
  {
   "cell_type": "markdown",
   "metadata": {},
   "source": [
    "#### D. Destination"
   ]
  },
  {
   "cell_type": "code",
   "execution_count": null,
   "metadata": {},
   "outputs": [],
   "source": [
    "# Menghitung jumlah Transported True dan False untuk setiap nilai Destination\n",
    "transported_counts = train_df.groupby(['Destination', 'Transported']).size().unstack().reset_index()\n",
    "\n",
    "# Membuat plot bar\n",
    "transported_counts.plot(kind='bar', x='Destination', stacked=True)\n",
    "\n",
    "# Menambahkan judul dan label sumbu\n",
    "plt.title('Jumlah Transported (True dan False) per Destination')\n",
    "plt.xlabel('Destination')\n",
    "plt.ylabel('Jumlah Penumpang')\n",
    "\n",
    "# Menampilkan plot\n",
    "plt.show()"
   ]
  },
  {
   "cell_type": "markdown",
   "metadata": {},
   "source": [
    "Diagram di atas menunjukkan bahwa Destination tidak memiliki pengaruh yang signifikan terhadap status Transported. Meskipun Trappist-1e memiliki jumlah penumpang terbanyak, distribusi Transported hampir seimbang di semua planet, menunjukkan bahwa faktor-faktor lain harus dipertimbangkan untuk memahami pola Transported."
   ]
  },
  {
   "cell_type": "markdown",
   "metadata": {},
   "source": [
    "#### E. Age"
   ]
  },
  {
   "cell_type": "code",
   "execution_count": 1499,
   "metadata": {},
   "outputs": [],
   "source": [
    "transported_passanger = train_df[train_df['Transported'] == True]\n",
    "non_transported_passanger = train_df[train_df['Transported'] == False]"
   ]
  },
  {
   "cell_type": "code",
   "execution_count": null,
   "metadata": {},
   "outputs": [],
   "source": [
    "# Membuat histogram\n",
    "plt.figure(figsize=(12, 6))\n",
    "\n",
    "# Histogram untuk penumpang yang 'Transported'\n",
    "plt.subplot(1, 2, 1)\n",
    "sns.histplot(transported_passanger['Age'].dropna(), bins=20, kde=False, color='blue')\n",
    "plt.title('Distribusi Usia Penumpang yang Dipindahkan')\n",
    "plt.xlabel('Usia')\n",
    "plt.ylabel('Jumlah Penumpang')\n",
    "\n",
    "# Histogram untuk penumpang yang 'Not Transported'\n",
    "plt.subplot(1, 2, 2)\n",
    "sns.histplot(non_transported_passanger['Age'].dropna(), bins=20, kde=False, color='red')\n",
    "plt.title('Distribusi Usia Penumpang yang Tidak Dipindahkan')\n",
    "plt.xlabel('Usia')\n",
    "plt.ylabel('Jumlah Penumpang')\n",
    "\n",
    "# Menampilkan plot\n",
    "plt.tight_layout()\n",
    "plt.show()"
   ]
  },
  {
   "cell_type": "markdown",
   "metadata": {},
   "source": [
    "Berdasarkan diagram di atas menunjukkan bahwa penumpang dengan usia muda 0 - 12 lebih mudah dipindahkan."
   ]
  },
  {
   "cell_type": "markdown",
   "metadata": {},
   "source": [
    "# Feature Engineering"
   ]
  },
  {
   "cell_type": "markdown",
   "metadata": {},
   "source": [
    "Pada tahapan feature engineering akan dilakukan bersmaan dengan data test"
   ]
  },
  {
   "cell_type": "code",
   "execution_count": 1501,
   "metadata": {},
   "outputs": [],
   "source": [
    "test_df = pd.read_csv(\"./test.csv\")"
   ]
  },
  {
   "cell_type": "code",
   "execution_count": 1502,
   "metadata": {},
   "outputs": [],
   "source": [
    "combined_df = pd.concat([train_df,test_df],ignore_index=True)"
   ]
  },
  {
   "cell_type": "markdown",
   "metadata": {},
   "source": [
    "#### A. Create Group Feature from PessanggerID"
   ]
  },
  {
   "cell_type": "code",
   "execution_count": 1503,
   "metadata": {},
   "outputs": [],
   "source": [
    "# Group \n",
    "combined_df['group'] = combined_df['PassengerId'].apply(lambda x : x[:4])"
   ]
  },
  {
   "cell_type": "markdown",
   "metadata": {},
   "source": [
    "Kode ini bertujuan untuk membuat fitur baru bernama `group` dalam DataFrame `combined_df`. Fitur ini diambil dari 4 karakter pertama ID penumpang (`PassengerId`), yang merepresentasikan grup perjalanan penumpang tersebut.\n",
    "\n",
    "**Tujuan Pembuatan Fitur 'group':**\n",
    "\n",
    "*   **Mengidentifikasi Grup Perjalanan**: Fitur ini memungkinkan analisis untuk melihat apakah ada pola atau perbedaan karakteristik antara kelompok perjalanan yang berbeda. Misalnya, apakah ada kelompok yang memiliki tingkat perpindahan yang lebih tinggi daripada yang lain.\n",
    "*   **Mengisi Nilai yang Hilang**: Fitur 'group' dapat digunakan untuk mengisi nilai yang hilang pada fitur lain dengan menggunakan informasi dari anggota grup yang lain. Misalnya, jika informasi kabin hilang untuk satu penumpang, dapat diisi dengan informasi kabin anggota grup lainnya.\n",
    "*   **Analisis Lebih Lanjut**: Fitur ini dapat digunakan dalam analisis lanjutan, seperti melihat apakah anggota keluarga cenderung dipindahkan bersama atau apakah ada faktor-faktor tertentu yang mempengaruhi seluruh kelompok."
   ]
  },
  {
   "cell_type": "markdown",
   "metadata": {},
   "source": [
    "#### B. Create Sum, Mean, and Median Value from 'RoomService', 'FoodCourt', 'ShoppingMall', 'Spa', 'VRDeck' Features"
   ]
  },
  {
   "cell_type": "code",
   "execution_count": 1504,
   "metadata": {},
   "outputs": [],
   "source": [
    "# Bill Amount Mean\n",
    "combined_df['TotalSpendingMean'] = combined_df[['RoomService', 'FoodCourt', 'ShoppingMall', 'Spa', 'VRDeck']].mean(axis=1)\n",
    "combined_df['TotalSpending'] = combined_df[['RoomService', 'FoodCourt', 'ShoppingMall', 'Spa', 'VRDeck']].sum(axis=1)\n",
    "combined_df['TotalSpendingMedian'] = combined_df[['RoomService', 'FoodCourt', 'ShoppingMall', 'Spa', 'VRDeck']].median(axis=1)"
   ]
  },
  {
   "cell_type": "markdown",
   "metadata": {},
   "source": [
    "#### C. Create Family Name and Related Family Name (Family x Group)"
   ]
  },
  {
   "cell_type": "code",
   "execution_count": 1505,
   "metadata": {},
   "outputs": [],
   "source": [
    "# Add 'Family Name' column\n",
    "combined_df['Family Name'] = combined_df['Name'].apply(lambda x: x.split()[1] if pd.notna(x) else np.nan)\n",
    "# Menggabungkan kolom 'Family Name' dan 'group' dengan tanda pemisah '-'\n",
    "combined_df['Related Family'] = combined_df['Family Name'] + '-' + combined_df['group']"
   ]
  },
  {
   "cell_type": "markdown",
   "metadata": {},
   "source": [
    "Kode di atas bertujuan untuk membuat dua fitur baru, yaitu 'Family Name' dan 'Related Family', dalam DataFrame `combined_df`.\n",
    "\n",
    "**Tujuan Pembuatan Fitur:**\n",
    "\n",
    "*   **Family Name**: Fitur ini mengekstrak nama keluarga (nama belakang) dari kolom `Name`. Tujuannya adalah untuk mengidentifikasi hubungan keluarga antar penumpang, dengan asumsi bahwa penumpang dengan nama keluarga yang sama kemungkinan besar adalah keluarga. Fitur ini akan membantu dalam analisis lebih lanjut tentang bagaimana hubungan keluarga mempengaruhi kemungkinan perpindahan penumpang.\n",
    "\n",
    "*   **Related Family**: Fitur ini menggabungkan `Family Name` dan `group` (grup perjalanan) dengan tanda hubung ('-'). Tujuannya adalah untuk membuat pengidentifikasi unik untuk setiap keluarga dalam setiap grup perjalanan. Ini akan membantu dalam analisis yang lebih spesifik tentang keluarga-keluarga tertentu dan bagaimana mereka terpengaruh oleh perpindahan."
   ]
  },
  {
   "cell_type": "markdown",
   "metadata": {},
   "source": [
    "#### D. Extraction Cabin Feature"
   ]
  },
  {
   "cell_type": "code",
   "execution_count": 1506,
   "metadata": {},
   "outputs": [],
   "source": [
    "# Ekstrak fitur dari 'Cabin'\n",
    "combined_df[['CabinDeck', 'CabinNumber', 'CabinSide']] = combined_df['Cabin'].str.split('/', expand=True)\n",
    "combined_df['CabinNumber'] = pd.to_numeric(combined_df['CabinNumber'], errors='coerce')  # Konversi ke numerik"
   ]
  },
  {
   "cell_type": "markdown",
   "metadata": {},
   "source": [
    "Kode di atas bertujuan untuk mengekstrak informasi dari kolom `Cabin` yang berisi data tentang dek, nomor, dan sisi kabin penumpang, dan menyimpannya dalam tiga kolom baru: `CabinDeck`, `CabinNumber`, dan `CabinSide`.\n",
    "\n",
    "*   `CabinDeck`: Menunjukkan dek kabin (misalnya, A, B, C, dll.).\n",
    "*   `CabinNumber`: Menunjukkan nomor kabin di dek tersebut.\n",
    "*   `CabinSide`: Menunjukkan sisi kabin (P untuk Port atau S untuk Starboard).\n",
    "\n",
    "Setelah itu, kode tersebut mengubah tipe data kolom `CabinNumber` menjadi numerik agar dapat digunakan dalam analisis dan pemodelan lebih lanjut.\n",
    "\n",
    "**Manfaat dari Ekstraksi Fitur:**\n",
    "\n",
    "*   **Analisis Lebih Mendalam**: Memungkinkan analisis yang lebih detail tentang pengaruh lokasi kabin terhadap kemungkinan perpindahan penumpang. Misalnya, apakah penumpang di dek tertentu lebih mungkin dipindahkan?\n",
    "*   **Pemodelan Prediktif**: Fitur-fitur yang diekstrak ini dapat digunakan sebagai variabel independen dalam model machine learning untuk memprediksi perpindahan penumpang."
   ]
  },
  {
   "cell_type": "markdown",
   "metadata": {},
   "source": [
    "#### E. Create Age Group"
   ]
  },
  {
   "cell_type": "code",
   "execution_count": 1507,
   "metadata": {},
   "outputs": [],
   "source": [
    "# Kategorikan 'Age'\n",
    "combined_df['AgeGroup'] = pd.cut(combined_df['Age'], bins=[0, 17, 65, 100], labels=['Child', 'Adult', 'Senior'])"
   ]
  },
  {
   "cell_type": "markdown",
   "metadata": {},
   "source": [
    "Kode ini bertujuan untuk membuat fitur baru bernama `AgeGroup` yang mengelompokkan penumpang berdasarkan usia mereka ke dalam tiga kategori: 'Child' (0-17 tahun), 'Adult' (18-65 tahun), dan 'Senior' (66 tahun ke atas).\n",
    "\n",
    "**Tujuan Kategorisasi Usia:**\n",
    "\n",
    "*   **Analisis Perbedaan Kelompok Usia**: Memungkinkan analisis untuk membandingkan tingkat perpindahan antara kelompok usia yang berbeda. Misalnya, apakah anak-anak lebih mungkin dipindahkan daripada orang dewasa?\n",
    "*   **Pemodelan Prediktif**: Fitur `AgeGroup` dapat digunakan sebagai variabel kategorikal dalam model machine learning untuk memprediksi perpindahan penumpang. Model mungkin dapat menangkap pola non-linear antara usia dan kemungkinan perpindahan dengan lebih baik ketika usia dikategorikan."
   ]
  },
  {
   "cell_type": "markdown",
   "metadata": {},
   "source": [
    "# Fill Nan Value"
   ]
  },
  {
   "cell_type": "markdown",
   "metadata": {},
   "source": [
    "#### A. Fill VIP Feature by Condition Above"
   ]
  },
  {
   "cell_type": "code",
   "execution_count": 1508,
   "metadata": {},
   "outputs": [],
   "source": [
    "# Mengisi nilai NaN pada kolom VIP dengan False jika Age < 18 atau Age > 75 dan yang berasal dari Bumi\n",
    "combined_df.loc[(combined_df['VIP'].isna()) & ((combined_df['Age'] < 18) | (combined_df['Age'] > 75)), 'VIP'] = False\n",
    "combined_df.loc[(combined_df['VIP'].isna()) & (combined_df['HomePlanet'] == 'Earth'), 'VIP'] = False"
   ]
  },
  {
   "cell_type": "markdown",
   "metadata": {},
   "source": [
    "#### B. Fill Age Feature by Condition Above"
   ]
  },
  {
   "cell_type": "code",
   "execution_count": 1509,
   "metadata": {},
   "outputs": [],
   "source": [
    "import pandas as pd\n",
    "from sklearn.experimental import enable_iterative_imputer  # Perlu untuk mengaktifkan IterativeImputer\n",
    "from sklearn.impute import IterativeImputer\n",
    "\n",
    "# Mengisi nilai 'Age' yang hilang pada 'TotalSpending' == 0 dengan 6\n",
    "combined_df.loc[(combined_df['Age'].isna()) & (combined_df['TotalSpending'] == 0), 'Age'] = 6\n",
    "\n",
    "# Menyiapkan kolom yang relevan untuk imputasi MICE\n",
    "cols_for_imputation = ['Age']  # Tambahkan kolom lain yang relevan jika diperlukan\n",
    "\n",
    "# Membuat salinan DataFrame untuk imputasi\n",
    "df_for_imputation = combined_df[cols_for_imputation]\n",
    "\n",
    "# Menggunakan IterativeImputer (MICE) untuk mengisi nilai yang hilang\n",
    "mice_imputer = IterativeImputer(max_iter=10, random_state=0)\n",
    "imputed_data = mice_imputer.fit_transform(df_for_imputation)\n",
    "\n",
    "# Menggantikan nilai yang diimputasi pada DataFrame asli\n",
    "combined_df['Age'] = imputed_data[:, 0]\n",
    "\n",
    "# Kategorikan 'Age' setelah imputasi\n",
    "combined_df['AgeGroup'] = pd.cut(combined_df['Age'], bins=[-1, 17, 65, 100], labels=['Child', 'Adult', 'Senior'])"
   ]
  },
  {
   "cell_type": "markdown",
   "metadata": {},
   "source": [
    "Kode di atas bertujuan untuk mengatasi nilai yang hilang pada kolom `Age` dengan menggunakan teknik Multiple Imputation by Chained Equations (MICE) dan kemudian mengkategorikan ulang kolom `Age` menjadi kelompok usia. Mari kita bedah langkah-langkahnya:\n",
    "\n",
    "1. **Mengisi Nilai 'Age' yang Hilang pada 'TotalSpending' == 0 dengan 6:**\n",
    "   - Logika di balik langkah ini adalah asumsi bahwa penumpang dengan `TotalSpending` nol kemungkinan besar adalah anak kecil yang belum memiliki kemampuan untuk menghabiskan uang di fasilitas kapal.\n",
    "\n",
    "2. **Menggunakan IterativeImputer (MICE) untuk Mengisi Nilai yang Hilang:**\n",
    "   - `IterativeImputer` adalah implementasi dari MICE. Ini bekerja dengan membuat beberapa prediksi untuk setiap nilai yang hilang, menggunakan regresi pada nilai yang diamati dari variabel lain. Proses ini diulang beberapa kali (`max_iter=10`) untuk memperbaiki estimasi.\n",
    "   - `random_state=0` digunakan untuk memastikan reproduktifitas hasil."
   ]
  },
  {
   "cell_type": "markdown",
   "metadata": {},
   "source": [
    "#### C. Fill CycroSleep and 'RoomService', 'FoodCourt', 'ShoppingMall', 'Spa', 'VRDeck'"
   ]
  },
  {
   "cell_type": "code",
   "execution_count": null,
   "metadata": {},
   "outputs": [],
   "source": [
    "# Fill Cycrosleep jadi True jika Total Spending adalah 0\n",
    "combined_df['CryoSleep'] = combined_df['CryoSleep'].fillna(combined_df['TotalSpending'].apply(lambda x: x == 0))\n",
    "\n",
    "# Kolom yang ingin diisi\n",
    "columns_to_fill = ['RoomService', 'FoodCourt', 'ShoppingMall', 'Spa', 'VRDeck']\n",
    "\n",
    "# Mengisi NaN di kolom tertentu dengan 0 jika CryoSleep bernilai True\n",
    "combined_df.loc[combined_df['CryoSleep'] == True, columns_to_fill] = combined_df.loc[combined_df['CryoSleep'] == True, columns_to_fill].fillna(0)\n",
    "\n",
    "# Mengisi NaN di kolom tertentu dengan median jika CryoSleep bernilai False\n",
    "for column in columns_to_fill:\n",
    "    median_value = combined_df[column].median()\n",
    "    combined_df.loc[combined_df['CryoSleep'] == False, column] = combined_df.loc[combined_df['CryoSleep'] == False, column].fillna(median_value)"
   ]
  },
  {
   "cell_type": "markdown",
   "metadata": {},
   "source": [
    "#### D. Fill Name Value by Group"
   ]
  },
  {
   "cell_type": "code",
   "execution_count": 1511,
   "metadata": {},
   "outputs": [],
   "source": [
    "# Mengelompokkan berdasarkan 'group' dan memfilter yang nilai 'group'-nya lebih dari satu dan urutkan\n",
    "group_analysis = combined_df.groupby('group').filter(lambda x: len(x) > 1).sort_values(by=['group','PassengerId','Name'])"
   ]
  },
  {
   "cell_type": "code",
   "execution_count": 1512,
   "metadata": {},
   "outputs": [],
   "source": [
    "# Fill NaN Value (diisi berdasarkan nama keluarga dari group dia berada) hasil pengurutan di atas (keluarga biasanya idnya urut)\n",
    "group_analysis['Name'].bfill(inplace=True)"
   ]
  },
  {
   "cell_type": "code",
   "execution_count": 1513,
   "metadata": {},
   "outputs": [],
   "source": [
    "# Add 'Family Name' column\n",
    "group_analysis['Family Name'] = group_analysis['Name'].apply(lambda x: x.split()[1] if pd.notna(x) else np.nan)\n",
    "# Menggabungkan kolom 'Family Name' dan 'group' dengan tanda pemisah '-'\n",
    "group_analysis['Related Family'] = group_analysis['Family Name'] + '-' + group_analysis['group']"
   ]
  },
  {
   "cell_type": "code",
   "execution_count": 1514,
   "metadata": {},
   "outputs": [],
   "source": [
    "# Identifikasi dan hapus duplikat dalam group_analysis\n",
    "group_analysis.drop_duplicates(subset='PassengerId', inplace=True)\n",
    "\n",
    "# Create Rest NaN Name Value from All Data\n",
    "group_analysis_id = group_analysis['PassengerId'].values.tolist()\n",
    "nan_name_df = combined_df.loc[(combined_df['Name'].isna()) & (~combined_df['PassengerId'].isin(group_analysis_id))]\n",
    "\n",
    "# Join nan data to group analysis data\n",
    "group_analysis = pd.concat([group_analysis, nan_name_df]).drop_duplicates(subset='PassengerId')\n",
    "\n",
    "# Fill NaN Name Data with Mode of Family Name\n",
    "group_analysis['Name'].fillna(group_analysis['Family Name'].mode()[0], inplace=True)\n",
    "\n",
    "# Add 'Family Name' column with the updated condition\n",
    "group_analysis['Family Name'] = group_analysis['Name'].apply(\n",
    "    lambda x: x.split()[1] if pd.notna(x) and len(x.split()) > 1 else (x.split()[0] if pd.notna(x) else np.nan)\n",
    ")\n",
    "\n",
    "# Menggabungkan kolom 'Family Name' dan 'group' dengan tanda pemisah '-'\n",
    "group_analysis['Related Family'] = group_analysis['Family Name'] + '-' + group_analysis['group']"
   ]
  },
  {
   "cell_type": "markdown",
   "metadata": {},
   "source": [
    "Kode di atas bertujuan untuk mengisi nilai yang hilang (NaN) pada kolom `Name` dan membuat fitur `Related Family` yang lebih akurat dengan mempertimbangkan hubungan keluarga antar penumpang. Berikut adalah penjelasan detail dari setiap langkah:\n",
    "\n",
    "1. **Memfilter dan Mengurutkan Data Berdasarkan Grup:**\n",
    "   - `group_analysis` dibuat dengan memfilter baris dari `combined_df` yang memiliki lebih dari satu anggota dalam grup perjalanannya (`group`). Kemudian data diurutkan berdasarkan `group`, `PassengerId`, dan `Name`.\n",
    "\n",
    "2. **Mengisi NaN di Kolom 'Name' dengan Nilai Sebelumnya:**\n",
    "   - `group_analysis['Name'].bfill(inplace=True)` mengisi nilai NaN pada kolom `Name` dengan nilai sebelumnya dalam grup. Ini diasumsikan karena nama keluarga seringkali sama dalam satu keluarga, dan pengurutan berdasarkan `PassengerId` memastikan bahwa anggota keluarga terdaftar berurutan.\n",
    "\n",
    "3. **Membuat Kolom 'Family Name' dan 'Related Family':**\n",
    "   - Sama seperti sebelumnya, kolom `Family Name` dan `Related Family` dibuat untuk mengidentifikasi hubungan keluarga dan membuat pengidentifikasi unik untuk setiap keluarga dalam grup perjalanan.\n",
    "\n",
    "4. **Mengidentifikasi dan Menggabungkan Data NaN 'Name' yang Tersisa:**\n",
    "   - `group_analysis_id` menyimpan daftar `PassengerId` yang sudah memiliki nama keluarga di `group_analysis`.\n",
    "   - `nan_name_df` memfilter baris dari `combined_df` yang memiliki nilai NaN pada `Name` dan tidak termasuk dalam `group_analysis_id`.\n",
    "   - `group_analysis` digabungkan dengan `nan_name_df` dan duplikat dihapus kembali.\n",
    "\n",
    "5. **Mengisi NaN 'Name' dengan Modus Nama Keluarga:**\n",
    "   - `group_analysis['Name'].fillna(group_analysis['Family Name'].mode()[0], inplace=True)` mengisi sisa nilai NaN pada `Name` dengan modus (nilai yang paling sering muncul) dari `Family Name`. Ini adalah langkah untuk mengisi nilai yang hilang dengan nilai yang paling mungkin.\n",
    "\n",
    "6. **Memperbarui Kolom 'Family Name' dan 'Related Family':**\n",
    "   - Kolom `Family Name` dibuat ulang dengan mempertimbangkan kondisi bahwa beberapa nama mungkin tidak memiliki nama belakang. Jika nama memiliki spasi, maka bagian setelah spasi diambil sebagai `Family Name`. Jika tidak, seluruh nama dianggap sebagai `Family Name`. \n",
    "   - Kolom `Related Family` juga diperbarui berdasarkan perubahan pada `Family Name`."
   ]
  },
  {
   "cell_type": "markdown",
   "metadata": {},
   "source": [
    "#### E. Fill Cabin by Family Name"
   ]
  },
  {
   "cell_type": "code",
   "execution_count": 1515,
   "metadata": {},
   "outputs": [],
   "source": [
    "# Update data lama dengan data baru\n",
    "combined_df.update(group_analysis)"
   ]
  },
  {
   "cell_type": "code",
   "execution_count": 1516,
   "metadata": {},
   "outputs": [],
   "source": [
    "# Mengisi nilai NaN pada Cabin berdasarkan Family Name karena terkadang keluarga yang sama berada pada cabin yang sama \n",
    "group_analysis['Cabin'] = group_analysis.groupby('Related Family')['Cabin'].transform(lambda x: x.fillna(method='ffill').fillna(method='bfill'))"
   ]
  },
  {
   "cell_type": "markdown",
   "metadata": {},
   "source": [
    "Kode ini bertujuan untuk mengisi nilai-nilai yang hilang (NaN) dalam kolom `Cabin` berdasarkan `Related Family`. Asumsinya adalah anggota keluarga yang sama sering kali berbagi kabin yang sama. Dengan menggunakan `groupby` dan `transform`, kode ini mengisi nilai NaN dengan nilai-nilai yang ada dalam keluarga yang sama, baik dari atas ke bawah (forward fill - `ffill`) maupun dari bawah ke atas (backward fill - `bfill`)."
   ]
  },
  {
   "cell_type": "markdown",
   "metadata": {},
   "source": [
    "#### F. HomePlanet"
   ]
  },
  {
   "cell_type": "code",
   "execution_count": 1517,
   "metadata": {},
   "outputs": [],
   "source": [
    "Europa = combined_df[combined_df['HomePlanet'] == 'Europa']\n",
    "Earth = combined_df[combined_df['HomePlanet'] == 'Earth']\n",
    "Mars = combined_df[combined_df['HomePlanet'] == 'Mars']"
   ]
  },
  {
   "cell_type": "markdown",
   "metadata": {},
   "source": [
    "**Distribusi Mayoritas Planet Asal Berdasarkan Deck Kabin:**\n",
    "\n",
    "1. **CabinDeck C ke atas:**\n",
    "   - Semua penumpang berasal dari **Europa**.\n",
    "\n",
    "2. **CabinDeck G dan F:**\n",
    "   - Mayoritas penumpang berasal dari **Earth**.\n",
    "\n",
    "3. **CabinDeck F dan D:**\n",
    "   - Mayoritas penumpang berasal dari **Mars**."
   ]
  },
  {
   "cell_type": "code",
   "execution_count": null,
   "metadata": {},
   "outputs": [],
   "source": [
    "# Mengisi nilai 'HomePlanet' berdasarkan 'CabinDeck'\n",
    "combined_df.loc[combined_df['CabinDeck'].isin(['C', 'B', 'A']) & combined_df['HomePlanet'].isna(), 'HomePlanet'] = 'Europa'"
   ]
  },
  {
   "cell_type": "markdown",
   "metadata": {},
   "source": [
    "#### G. Destination Planet"
   ]
  },
  {
   "cell_type": "code",
   "execution_count": 1519,
   "metadata": {},
   "outputs": [],
   "source": [
    "TRAPPIST = combined_df[combined_df['Destination'] == 'TRAPPIST-1e']\n",
    "Cancri = combined_df[combined_df['Destination'] == '55 Cancri e']\n",
    "PSO = combined_df[combined_df['Destination'] == 'PSO J318.5-22']"
   ]
  },
  {
   "cell_type": "markdown",
   "metadata": {},
   "source": [
    "Berdasarkan hasil analisis di atas, dihasilkan analisis bahwa 81% orang mars akan menuju trapist sehingga bisa diisi trapist jika mars"
   ]
  },
  {
   "cell_type": "code",
   "execution_count": 1520,
   "metadata": {},
   "outputs": [],
   "source": [
    "combined_df.loc[(combined_df['Destination'].isna()) & (combined_df['HomePlanet'] == 'Mars'), 'Destination'] = 'TRAPPIST-1e'"
   ]
  },
  {
   "cell_type": "markdown",
   "metadata": {},
   "source": [
    "#### H. Fill The Rest With Mode"
   ]
  },
  {
   "cell_type": "code",
   "execution_count": 1521,
   "metadata": {},
   "outputs": [],
   "source": [
    "# Mengisi nilai NaN pada kolom kategorikal menggunakan modus\n",
    "categorical_cols = ['Destination', 'HomePlanet', 'VIP']\n",
    "\n",
    "for col in categorical_cols:\n",
    "    mode = combined_df[col].mode()[0]\n",
    "    combined_df[col].fillna(mode, inplace=True)"
   ]
  },
  {
   "cell_type": "code",
   "execution_count": 1522,
   "metadata": {},
   "outputs": [],
   "source": [
    "combined_df['Cabin'].ffill(inplace=True)"
   ]
  },
  {
   "cell_type": "markdown",
   "metadata": {},
   "source": [
    "ffill dipilih untuk mengisi cabin di atas dikarenakan nilai cabin sangat beragam atau bervariasi sehingga kemungkinan akan jelek bila mengisikannya dengan modus seperti fitur yang lain."
   ]
  },
  {
   "cell_type": "code",
   "execution_count": 1523,
   "metadata": {},
   "outputs": [],
   "source": [
    "# Ekstrak fitur dari 'Cabin'\n",
    "combined_df[['CabinDeck', 'CabinNumber', 'CabinSide']] = combined_df['Cabin'].str.split('/', expand=True)\n",
    "combined_df['CabinNumber'] = pd.to_numeric(combined_df['CabinNumber'], errors='coerce')  # Konversi ke numerik"
   ]
  },
  {
   "cell_type": "code",
   "execution_count": null,
   "metadata": {},
   "outputs": [],
   "source": [
    "combined_df.isnull().sum()"
   ]
  },
  {
   "cell_type": "markdown",
   "metadata": {},
   "source": [
    "# Data Preparation"
   ]
  },
  {
   "cell_type": "code",
   "execution_count": 1525,
   "metadata": {},
   "outputs": [],
   "source": [
    "# Mengganti nilai True dan False ke 1 dan 0\n",
    "combined_df[['VIP','CryoSleep']] = combined_df[['VIP','CryoSleep']].astype(int)"
   ]
  },
  {
   "cell_type": "markdown",
   "metadata": {},
   "source": [
    "Perubahan di atas menjadi integer digunakan agar dapat melihat korelasinya dengan label."
   ]
  },
  {
   "cell_type": "code",
   "execution_count": 1526,
   "metadata": {},
   "outputs": [],
   "source": [
    "combined_df['CabinNumber'] = pd.to_numeric(combined_df['CabinNumber'], errors='coerce')  # Konversi ke numerik\n",
    "combined_df['CabinDeck'] = combined_df['CabinDeck'].astype(str)  # Pastikan CabinDeck adalah string\n",
    "combined_df['CabinSide'] = combined_df['CabinSide'].astype(str)  # Pastikan CabinSide adalah string"
   ]
  },
  {
   "cell_type": "code",
   "execution_count": 1527,
   "metadata": {},
   "outputs": [],
   "source": [
    "combined_df_copy = combined_df.copy()"
   ]
  },
  {
   "cell_type": "code",
   "execution_count": null,
   "metadata": {},
   "outputs": [],
   "source": [
    "combined_df_copy.head()"
   ]
  },
  {
   "cell_type": "code",
   "execution_count": 1529,
   "metadata": {},
   "outputs": [],
   "source": [
    "from sklearn.preprocessing import LabelEncoder, MinMaxScaler\n",
    "\n",
    "# Membuat instance LabelEncoder\n",
    "le = LabelEncoder()\n",
    "\n",
    "# Label encoding untuk kolom 'CabinDeck'\n",
    "combined_df_copy['CabinDeck Encoded'] = le.fit_transform(combined_df_copy['CabinDeck'])\n",
    "# Label encoding untuk kolom 'Family Name'\n",
    "combined_df_copy['Related Family Encoded'] = le.fit_transform(combined_df_copy['Related Family'])\n",
    "combined_df_copy['AgeGroup Encoded'] = le.fit_transform(combined_df_copy['AgeGroup'])\n",
    "\n",
    "# Label encoding untuk kolom 'CabinDeck'\n",
    "combined_df_copy['CabinDeck Encoded'] = le.fit_transform(combined_df_copy['CabinDeck'])\n",
    "\n",
    "# Label encoding untuk kolom 'CabinSide'\n",
    "combined_df_copy['CabinSide Encoded'] = le.fit_transform(combined_df_copy['CabinSide'])"
   ]
  },
  {
   "cell_type": "markdown",
   "metadata": {},
   "source": [
    "Label Encoder dipilih untuk fitur `AgeGroup` karena terdapat urutan alami dalam data, yaitu 'Child' (lebih muda), 'Adult', dan 'Senior' (lebih tua). Label Encoder akan mempertahankan informasi urutan ini dalam representasi numerik.\n",
    "\n",
    "Untuk fitur `Related Family`, Label Encoder digunakan karena data ini memiliki banyak nilai unik. Jika diubah menjadi one-hot encoding, akan menghasilkan jumlah fitur yang sangat besar, yang dapat menyebabkan masalah komputasi dan overfitting.\n",
    "\n",
    "Label Encoder juga diterapkan pada `CabinDeck` karena nilainya merupakan huruf alfabet yang berurutan (A, B, C, dst.). Label Encoder akan mengubah huruf-huruf ini menjadi angka berurutan, yang sesuai dengan urutan alami dari dek kabin.\n",
    "\n",
    "Label Encoder pada `CabinSide` digunakan hanya untuk percobaan saja karena tidak ada informasi yang cukup apakah terdapat ciri ordinal pada data ini."
   ]
  },
  {
   "cell_type": "code",
   "execution_count": 1530,
   "metadata": {},
   "outputs": [],
   "source": [
    "# Standarisasi kolom numerik\n",
    "scaler = MinMaxScaler()\n",
    "numerical_columns = ['Age', 'RoomService', 'FoodCourt', 'ShoppingMall', 'Spa', 'VRDeck', 'TotalSpendingMean','TotalSpending','TotalSpendingMedian']\n",
    "combined_df_copy[numerical_columns] = scaler.fit_transform(combined_df_copy[numerical_columns])"
   ]
  },
  {
   "cell_type": "markdown",
   "metadata": {},
   "source": [
    "Penggunaan `MinMax` Scaler dipilih berdasarkan hasil percobaan yang telah dilakukan pada proses training dengan menghasilkan hasil yang lebih bagus ketika menggunakan `MinMax` daripada menggunakan `StandarScaler`."
   ]
  },
  {
   "cell_type": "code",
   "execution_count": 1531,
   "metadata": {},
   "outputs": [],
   "source": [
    "# Label encoding untuk kolom 'CabinSide'\n",
    "combined_df_copy = pd.get_dummies(combined_df_copy, columns=['CabinSide'])"
   ]
  },
  {
   "cell_type": "markdown",
   "metadata": {},
   "source": [
    "Karena kurangnya informasi pada data di `CabinSide`, maka juga dilakukan `One Hote Encode` pada data `Cabin Side`"
   ]
  },
  {
   "cell_type": "code",
   "execution_count": 1532,
   "metadata": {},
   "outputs": [],
   "source": [
    "# Hitung frekuensi label di kolom HomePlanet\n",
    "homeplanet_counts = combined_df_copy['HomePlanet'].value_counts()\n",
    "homeplanet_mapping = {label: idx for idx, label in enumerate(homeplanet_counts.index)}\n",
    "\n",
    "# Hitung frekuensi label di kolom Destination\n",
    "destination_counts = combined_df_copy['Destination'].value_counts()\n",
    "destination_mapping = {label: idx for idx, label in enumerate(destination_counts.index)}\n",
    "\n",
    "# Encode kolom berdasarkan mapping\n",
    "combined_df_copy['HomePlanetEncoded'] = combined_df_copy['HomePlanet'].map(homeplanet_mapping)\n",
    "combined_df_copy['DestinationEncoded'] = combined_df_copy['Destination'].map(destination_mapping)\n",
    "\n",
    "# One-hot encoding untuk kolom 'HomePlanet' dan 'Destination'\n",
    "combined_df_copy = pd.get_dummies(combined_df_copy, columns=['HomePlanet', 'Destination'])"
   ]
  },
  {
   "cell_type": "markdown",
   "metadata": {},
   "source": [
    "Kode tersebut bertujuan untuk mengubah fitur kategorikal `HomePlanet` dan `Destination` menjadi representasi numerik yang lebih sesuai untuk model machine learning. Proses ini dilakukan dalam dua langkah utama:\n",
    "\n",
    "1. **Frequency Encoding:**\n",
    "   *   **Tujuan:** Frequency encoding digunakan untuk menggantikan setiap kategori dalam `HomePlanet` dan `Destination` dengan frekuensi kemunculannya dalam dataset. \n",
    "   *   **Alasan:** Teknik ini seringkali efektif ketika ada hubungan antara frekuensi kategori dan target variabel (dalam kasus ini, `Transported`). Misalnya, jika penumpang dari planet tertentu cenderung lebih sering dipindahkan, maka frekuensi dari planet tersebut bisa menjadi prediktor yang berguna.\n",
    "   *   **Cara Kerja:**\n",
    "       1. Menghitung frekuensi setiap label (kategori) dalam `HomePlanet` dan `Destination`.\n",
    "       2. Membuat pemetaan (dictionary) yang menghubungkan setiap label dengan frekuensinya.\n",
    "       3. Menggunakan pemetaan tersebut untuk mengganti setiap label di kolom asli dengan frekuensinya.\n",
    "\n",
    "2. **One-Hot Encoding:**\n",
    "   *   **Tujuan:** One-hot encoding digunakan untuk mengubah fitur kategorikal yang sudah di-frequency encoded menjadi beberapa kolom biner. Setiap kolom biner mewakili satu kategori, dan nilainya 1 jika baris tersebut termasuk dalam kategori tersebut, dan 0 jika tidak.\n",
    "   *   **Alasan:** One-hot encoding mencegah model machine learning salah mengartikan nilai numerik dari frequency encoding sebagai urutan atau hierarki. Misalnya, jika planet 'Earth' memiliki frekuensi 3 dan planet 'Mars' memiliki frekuensi 2, model tidak akan menganggap 'Earth' lebih penting daripada 'Mars' hanya karena frekuensinya lebih tinggi.\n",
    "   *   **Cara Kerja:** Fungsi `pd.get_dummies` digunakan untuk membuat kolom-kolom biner baru berdasarkan kategori-kategori di `HomePlanet` dan `Destination` yang sudah di frequency encoded.\n",
    "\n",
    "**Kesimpulan**\n",
    "\n",
    "Dengan menggabungkan frequency encoding dan one-hot encoding, kita mendapatkan representasi numerik dari fitur kategorikal `HomePlanet` dan `Destination` yang lebih informatif dan lebih mudah digunakan oleh model machine learning. Frequency encoding memberikan informasi tentang frekuensi kemunculan setiap kategori, sementara one-hot encoding memastikan bahwa model tidak membuat asumsi yang salah tentang urutan atau kepentingan antar kategori."
   ]
  },
  {
   "cell_type": "code",
   "execution_count": null,
   "metadata": {},
   "outputs": [],
   "source": [
    "train_df_id = train_df['PassengerId'].values\n",
    "ready_to_train = combined_df_copy[combined_df_copy['Transported'].notnull()].copy()\n",
    "\n",
    "ready_to_train.head()"
   ]
  },
  {
   "cell_type": "markdown",
   "metadata": {},
   "source": [
    "Kode di atas digunakan untuk memisahkan antara `Data Test` dan `Data Train`"
   ]
  },
  {
   "cell_type": "code",
   "execution_count": 1534,
   "metadata": {},
   "outputs": [],
   "source": [
    "# Mengganti nilai True dan False ke 1 dan 0\n",
    "ready_to_train['Transported'] = ready_to_train['Transported'].astype(int)"
   ]
  },
  {
   "cell_type": "code",
   "execution_count": 1535,
   "metadata": {},
   "outputs": [],
   "source": [
    "# Ubah semua kolom bertipe number dan bool menjadi float\n",
    "num_bool_cols = ready_to_train.select_dtypes(include=['number', 'bool']).columns\n",
    "ready_to_train[num_bool_cols] = ready_to_train[num_bool_cols].astype(float)"
   ]
  },
  {
   "cell_type": "code",
   "execution_count": null,
   "metadata": {},
   "outputs": [],
   "source": [
    "plt.figure(figsize=(30,10))\n",
    "sns.heatmap(ready_to_train.select_dtypes('number').corr(),annot=True)\n",
    "plt.show()"
   ]
  },
  {
   "cell_type": "code",
   "execution_count": null,
   "metadata": {},
   "outputs": [],
   "source": [
    "ready_to_train.select_dtypes('number').corr()['Transported'].sort_values(ascending=False).plot(kind='bar')\n",
    "plt.show()"
   ]
  },
  {
   "cell_type": "code",
   "execution_count": null,
   "metadata": {},
   "outputs": [],
   "source": [
    "ready_to_train.columns"
   ]
  },
  {
   "cell_type": "code",
   "execution_count": null,
   "metadata": {},
   "outputs": [],
   "source": [
    "# Memilih fitur-fitur yang memiliki korelasi tinggi dan moderat dengan 'Transported'\n",
    "features_to_use = ['CryoSleep', 'Age', 'VIP', 'RoomService', 'FoodCourt', 'ShoppingMall',\n",
    "       'Spa', 'VRDeck', 'TotalSpending', 'CabinNumber',\n",
    "       'CabinDeck Encoded', 'CabinSide Encoded']\n",
    "\n",
    "features_set = set(features_to_use)\n",
    "\n",
    "\n",
    "# Drop fitur-fitur yang tidak digunakan dan memastikan tipe data float\n",
    "ready_to_train_df = ready_to_train[features_to_use + ['Transported']]\n",
    "\n",
    "# Menampilkan beberapa baris pertama dari dataframe hasil akhir\n",
    "ready_to_train_df.head()"
   ]
  },
  {
   "cell_type": "markdown",
   "metadata": {},
   "source": [
    "Fitur di atas merupakan fitur yang menghasilkan hasil terbaik untuk saat ini. Pemilihan didasarkan berdasarkan hasi percobaan yang telah dilakukan berulang kali dimulai dari fitur yang memiliki korelasi terbesar."
   ]
  },
  {
   "cell_type": "code",
   "execution_count": null,
   "metadata": {},
   "outputs": [],
   "source": [
    "ready_to_train_df.dropna(inplace=True)\n",
    "print(ready_to_train_df.columns)\n",
    "print(ready_to_train_df.isnull().sum())\n",
    "print(ready_to_train_df.shape)"
   ]
  },
  {
   "cell_type": "code",
   "execution_count": null,
   "metadata": {},
   "outputs": [],
   "source": [
    "ready_to_train_df.head()"
   ]
  },
  {
   "cell_type": "markdown",
   "metadata": {},
   "source": [
    "# Modelling"
   ]
  },
  {
   "cell_type": "code",
   "execution_count": null,
   "metadata": {},
   "outputs": [],
   "source": [
    "from pycaret.classification import *\n",
    "\n",
    "# Setup PyCaret\n",
    "clf_setup = setup(data=ready_to_train_df, target='Transported', verbose=True, session_id=123,use_gpu=False)\n",
    "\n",
    "# Bandingkan model dan pilih yang terbaik\n",
    "best_model = compare_models()\n",
    "\n",
    "# Pelatihan model terbaik pada seluruh data\n",
    "final_model = finalize_model(best_model)"
   ]
  },
  {
   "cell_type": "markdown",
   "metadata": {},
   "source": [
    "# Evaluation\n",
    "Pada beberapa kali percobaan, Catboost keluar sebagai model dengan kualitas tertinggi maka berdasarkan hasil tersebut maka dilakukan observasi lebih lanjut catboost dengan melakukan hyperparameter tunning.\n",
    "###  Try Best Model in Catboost"
   ]
  },
  {
   "cell_type": "code",
   "execution_count": null,
   "metadata": {},
   "outputs": [],
   "source": [
    "from sklearn.model_selection import train_test_split, GridSearchCV\n",
    "from sklearn.metrics import accuracy_score, classification_report\n",
    "from catboost import CatBoostClassifier\n",
    "import pandas as pd\n",
    "\n",
    "# Pisahkan fitur dan target\n",
    "X = ready_to_train_df.drop('Transported', axis=1)  # Drop kolom target\n",
    "y = ready_to_train_df['Transported']               # Kolom target\n",
    "\n",
    "# Identifikasi kolom kategori (jika ada, meskipun data ini tampaknya sudah di-encode)\n",
    "categorical_features = []  # Daftar kolom kategori jika ada\n",
    "\n",
    "# Pisahkan data menjadi data pelatihan dan pengujian\n",
    "X_train, X_test, y_train, y_test = train_test_split(X, y, test_size=0.2, random_state=123)\n",
    "\n",
    "# Inisialisasi CatBoostClassifier\n",
    "model = CatBoostClassifier(\n",
    "    cat_features=categorical_features,  # Kolom kategori\n",
    "    random_state=123           # Set seed untuk reproducibility\n",
    ")\n",
    "\n",
    "# Tentukan parameter grid untuk GridSearchCV\n",
    "param_grid = {\n",
    "    'iterations': [500, 1000, 1500],\n",
    "    'learning_rate': [0.01, 0.1, 0.2],\n",
    "    'depth': [4, 6, 8]\n",
    "}\n",
    "\n",
    "# Inisialisasi GridSearchCV\n",
    "grid_search = GridSearchCV(\n",
    "    estimator=model,\n",
    "    param_grid=param_grid,\n",
    "    cv=5,  # 3-fold cross-validation\n",
    "    scoring='accuracy',\n",
    "    verbose=1,\n",
    "    n_jobs=-1\n",
    ")\n",
    "\n",
    "# Latih model menggunakan GridSearchCV\n",
    "grid_search.fit(X_train, y_train)\n",
    "\n",
    "# Cetak hyperparameter terbaik\n",
    "print(f'Best Hyperparameters: {grid_search.best_params_}')\n",
    "\n",
    "# Prediksi pada data uji menggunakan model terbaik\n",
    "best_model = grid_search.best_estimator_\n",
    "y_pred = best_model.predict(X_test)\n",
    "\n",
    "# Evaluasi model\n",
    "accuracy = accuracy_score(y_test, y_pred)\n",
    "print(f'Accuracy: {accuracy:.4f}')\n",
    "print('Classification Report:')\n",
    "print(classification_report(y_test, y_pred))"
   ]
  },
  {
   "cell_type": "markdown",
   "metadata": {},
   "source": [
    "## Evaluation\n",
    "\n",
    "Best Hyperparameters: {'depth': 8, 'iterations': 1500, 'learning_rate': 0.01}\n",
    "\n",
    "### Metrik Evaluasi yang Digunakan\n",
    "\n",
    "Kode ini menggunakan beberapa metrik untuk mengevaluasi kinerja model CatBoostClassifier terbaik setelah hyperparameter tuning:\n",
    "\n",
    "*   **Accuracy (Akurasi)**: Mengukur proporsi prediksi yang benar dari keseluruhan prediksi. Accuracy adalah metrik yang baik ketika distribusi kelas seimbang, tetapi bisa menyesatkan jika tidak seimbang.\n",
    "\n",
    "*   **Precision (Presisi)**: Mengukur proporsi prediksi positif yang benar dari keseluruhan prediksi positif. Precision tinggi berarti model jarang memberikan label positif pada sampel negatif.\n",
    "\n",
    "*   **Recall (Sensitivitas)**: Mengukur proporsi sampel positif yang benar-benar diidentifikasi sebagai positif. Recall tinggi berarti model jarang memberikan label negatif pada sampel positif.\n",
    "\n",
    "*   **F1-score**: Menyeimbangkan precision dan recall. F1-score adalah rata-rata harmonik dari precision dan recall, dan memberikan gambaran keseluruhan tentang kinerja model, terutama ketika distribusi kelas tidak seimbang.\n",
    "\n",
    "### Hasil Proyek Berdasarkan Metrik Evaluasi\n",
    "\n",
    "Kode tersebut menghasilkan laporan klasifikasi sebagai berikut:\n",
    "\n",
    "```text\n",
    "Accuracy: 0.8315\n",
    "Classification Report:\n",
    "              precision    recall  f1-score   support\n",
    "\n",
    "         0.0       0.85      0.80      0.82       851\n",
    "         1.0       0.82      0.86      0.84       888\n",
    "\n",
    "    accuracy                           0.83      1739\n",
    "   macro avg       0.83      0.83      0.83      1739\n",
    "weighted avg       0.83      0.83      0.83      1739\n",
    "```\n",
    "\n",
    "Berikut adalah interpretasi dari hasil tersebut:\n",
    "\n",
    "*   **Accuracy (Akurasi):** Model memiliki akurasi 83.15%, yang berarti model dapat memprediksi dengan benar apakah seorang penumpang dipindahkan atau tidak sekitar 83% dari waktu.\n",
    "*   **Precision (Presisi):**\n",
    "    *   Untuk kelas 0 (tidak dipindahkan): Presisi 0.85 berarti dari semua penumpang yang diprediksi tidak dipindahkan, 85% diantaranya benar-benar tidak dipindahkan.\n",
    "    *   Untuk kelas 1 (dipindahkan): Presisi 0.82 berarti dari semua penumpang yang diprediksi dipindahkan, 82% diantaranya benar-benar dipindahkan.\n",
    "*   **Recall (Sensitivitas):**\n",
    "    *   Untuk kelas 0 (tidak dipindahkan): Recall 0.80 berarti model dapat mengidentifikasi 80% dari semua penumpang yang sebenarnya tidak dipindahkan.\n",
    "    *   Untuk kelas 1 (dipindahkan): Recall 0.86 berarti model dapat mengidentifikasi 86% dari semua penumpang yang sebenarnya dipindahkan.\n",
    "*   **F1-score:** F1-score yang tinggi (0.82 untuk kelas 0 dan 0.84 untuk kelas 1) menunjukkan bahwa model memiliki keseimbangan yang baik antara precision dan recall untuk kedua kelas.\n",
    "\n",
    "Secara keseluruhan, model CatBoostClassifier dengan hyperparameter tuning yang dihasilkan dari GridSearchCV menunjukkan kinerja yang baik dalam memprediksi apakah seorang penumpang dipindahkan atau tidak. Metrik evaluasi yang dihasilkan memberikan pemahaman yang komprehensif tentang kemampuan model dalam melakukan klasifikasi."
   ]
  },
  {
   "cell_type": "markdown",
   "metadata": {},
   "source": [
    "# Predict Data Test"
   ]
  },
  {
   "cell_type": "code",
   "execution_count": null,
   "metadata": {},
   "outputs": [],
   "source": [
    "data_to_predict = combined_df_copy[combined_df_copy['PassengerId'].isin(test_df['PassengerId'].values)]\n",
    "data_to_predict.head()"
   ]
  },
  {
   "cell_type": "code",
   "execution_count": null,
   "metadata": {},
   "outputs": [],
   "source": [
    "ready_to_predict_df = data_to_predict[features_to_use]\n",
    "\n",
    "# Ubah semua kolom bertipe number dan bool menjadi float\n",
    "num_bool_cols = ready_to_predict_df.select_dtypes(include=['number', 'bool']).columns\n",
    "ready_to_predict_df[num_bool_cols] = ready_to_predict_df[num_bool_cols].astype(float)\n",
    "\n",
    "ready_to_predict_df.head()"
   ]
  },
  {
   "cell_type": "code",
   "execution_count": 1546,
   "metadata": {},
   "outputs": [],
   "source": [
    "# Gunakan best_model untuk memprediksi data baru\n",
    "predictions = best_model.predict(ready_to_predict_df)"
   ]
  },
  {
   "cell_type": "code",
   "execution_count": null,
   "metadata": {},
   "outputs": [],
   "source": [
    "# Buat DataFrame untuk submission\n",
    "submission = pd.DataFrame({\n",
    "    'PassengerId': test_df['PassengerId'],  # Menggunakan PassengerId dari data asli\n",
    "})\n",
    "\n",
    "submission['Transported'] = list(predictions)\n",
    "submission['Transported'].replace(1.0,True,inplace=True)\n",
    "submission['Transported'].replace(0.0,False,inplace=True)\n",
    "submission.head()"
   ]
  },
  {
   "cell_type": "code",
   "execution_count": 1548,
   "metadata": {},
   "outputs": [],
   "source": [
    "submission.to_csv('submission.csv',index=False)"
   ]
  },
  {
   "attachments": {
    "image.png": {
     "image/png": "[encoded data removed]"
    }
   },
   "cell_type": "markdown",
   "metadata": {},
   "source": [
    "## Public Score\n",
    "![image.png](attachment:image.png)"
   ]
  }
 ],
 "metadata": {
  "kernelspec": {
   "display_name": "SatriaData24",
   "language": "python",
   "name": "python3"
  },
  "language_info": {
   "codemirror_mode": {
    "name": "ipython",
    "version": 3
   },
   "file_extension": ".py",
   "mimetype": "text/x-python",
   "name": "python",
   "nbconvert_exporter": "python",
   "pygments_lexer": "ipython3",
   "version": "3.9.19"
  }
 },
 "nbformat": 4,
 "nbformat_minor": 2
}
