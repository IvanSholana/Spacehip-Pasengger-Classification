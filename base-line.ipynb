{
 "cells": [
  {
   "cell_type": "code",
   "execution_count": null,
   "metadata": {},
   "outputs": [],
   "source": [
    "import pandas as pd\n",
    "import numpy as np\n",
    "import seaborn as sns\n",
    "import matplotlib.pyplot as plt\n",
    "\n",
    "# Membaca data\n",
    "train_df = pd.read_csv('train.csv')\n",
    "test_df = pd.read_csv('test.csv')\n",
    "\n",
    "# Melihat informasi umum mengenai data\n",
    "print(train_df.info())\n",
    "print(test_df.info())\n",
    "\n",
    "# Melihat distribusi missing values\n",
    "sns.heatmap(train_df.isnull(), cbar=False, cmap='viridis')\n",
    "plt.title('Missing Values in Train Data')\n",
    "plt.show()\n",
    "\n",
    "sns.heatmap(test_df.isnull(), cbar=False, cmap='viridis')\n",
    "plt.title('Missing Values in Test Data')\n",
    "plt.show()\n",
    "\n",
    "# Mengisi missing values\n",
    "train_df['Age'].fillna(train_df['Age'].median(), inplace=True)\n",
    "test_df['Age'].fillna(test_df['Age'].median(), inplace=True)\n",
    "\n",
    "# Mengisi missing values pada fitur kategorikal dengan modus\n",
    "for column in ['HomePlanet', 'CryoSleep', 'Cabin', 'Destination', 'VIP']:\n",
    "    train_df[column].fillna(train_df[column].mode()[0], inplace=True)\n",
    "    test_df[column].fillna(test_df[column].mode()[0], inplace=True)"
   ]
  },
  {
   "cell_type": "code",
   "execution_count": null,
   "metadata": {},
   "outputs": [],
   "source": [
    "# Membuat fitur baru berdasarkan fitur yang ada\n",
    "train_df['TotalSpend'] = train_df['RoomService'] + train_df['FoodCourt'] + train_df['ShoppingMall'] + train_df['Spa'] + train_df['VRDeck']\n",
    "test_df['TotalSpend'] = test_df['RoomService'] + test_df['FoodCourt'] + test_df['ShoppingMall'] + test_df['Spa'] + test_df['VRDeck']\n",
    "\n",
    "# Melakukan encoding pada fitur kategorikal\n",
    "train_df = pd.get_dummies(train_df, columns=['HomePlanet', 'CryoSleep', 'Cabin', 'Destination', 'VIP'])\n",
    "test_df = pd.get_dummies(test_df, columns=['HomePlanet', 'CryoSleep', 'Cabin', 'Destination', 'VIP'])"
   ]
  },
  {
   "cell_type": "code",
   "execution_count": null,
   "metadata": {},
   "outputs": [],
   "source": [
    "from sklearn.ensemble import RandomForestClassifier\n",
    "from sklearn.model_selection import train_test_split, GridSearchCV\n",
    "from sklearn.metrics import classification_report, roc_auc_score\n",
    "\n",
    "# Membagi data train menjadi train dan validation set\n",
    "X = train_df.drop(columns=['Transported','Name'], axis=1)\n",
    "y = train_df['Transported']\n",
    "X_train, X_val, y_train, y_val = train_test_split(X, y, test_size=0.2, random_state=42)\n",
    "\n",
    "# Melatih model RandomForest\n",
    "rf = RandomForestClassifier(random_state=42)\n",
    "rf.fit(X_train, y_train)\n",
    "\n",
    "# Prediksi pada validation set\n",
    "y_pred = rf.predict(X_val)\n",
    "y_pred_proba = rf.predict_proba(X_val)[:, 1]\n",
    "\n",
    "# Evaluasi model\n",
    "print(classification_report(y_val, y_pred))\n",
    "print('AUC-ROC:', roc_auc_score(y_val, y_pred_proba))\n",
    "\n",
    "# Hyperparameter Tuning\n",
    "param_grid = {\n",
    "    'n_estimators': [100, 200, 300],\n",
    "    'max_depth': [None, 10, 20, 30],\n",
    "    'min_samples_split': [2, 5, 10]\n",
    "}\n",
    "grid_search = GridSearchCV(estimator=rf, param_grid=param_grid, cv=3, scoring='roc_auc')\n",
    "grid_search.fit(X_train, y_train)\n",
    "\n",
    "# Model terbaik\n",
    "best_rf = grid_search.best_estimator_\n",
    "\n",
    "# Prediksi pada test set\n",
    "test_pred = best_rf.predict(test_df)"
   ]
  }
 ],
 "metadata": {
  "kernelspec": {
   "display_name": "SatriaData24",
   "language": "python",
   "name": "python3"
  },
  "language_info": {
   "codemirror_mode": {
    "name": "ipython",
    "version": 3
   },
   "file_extension": ".py",
   "mimetype": "text/x-python",
   "name": "python",
   "nbconvert_exporter": "python",
   "pygments_lexer": "ipython3",
   "version": "3.9.19"
  }
 },
 "nbformat": 4,
 "nbformat_minor": 2
}
